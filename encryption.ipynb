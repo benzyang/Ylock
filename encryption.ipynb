{
 "cells": [
  {
   "cell_type": "code",
   "execution_count": 106,
   "metadata": {},
   "outputs": [],
   "source": [
    "import os\n",
    "import hashlib\n",
    "\n",
    "\n",
    "def encrypt_file(file_path, password):\n",
    "    hashed_password = hashlib.sha256(password.encode()).hexdigest()\n",
    "    \n",
    "    with open(file_path, 'rb+') as file:\n",
    "        header_data = file.read(64)\n",
    "        file.seek(0)\n",
    "        file.write(hashed_password.encode())\n",
    "\n",
    "    with open(file_path, 'ab+') as file:\n",
    "        file.seek(0, 2)\n",
    "        file.write(header_data)\n",
    "\n",
    "    encrypted_file_path = file_path + '.ylock'\n",
    "    os.rename(file_path, encrypted_file_path)\n",
    "    print('Encryption success!')\n",
    "\n",
    "\n",
    "def decrypt_file(file_path, password):\n",
    "    with open(file_path, 'rb+') as file:\n",
    "        stored_hash = file.read(64).decode()\n",
    "\n",
    "        hashed_password = hashlib.sha256(password.encode()).hexdigest()\n",
    "\n",
    "        original_file_name = None\n",
    "        if stored_hash == hashed_password:\n",
    "            file.seek(-64, 2)\n",
    "            data = file.read()\n",
    "            file.truncate()\n",
    "            file.seek(0)\n",
    "            file.write(data)\n",
    "            original_file_name = os.path.splitext(file_path)[0]\n",
    "            print(\"Decryption success!\")\n",
    "        else:\n",
    "            print(\"Password is incorrect!\")\n",
    "        \n",
    "    if original_file_name:\n",
    "        os.rename(file_path, original_file_name)\n"
   ]
  },
  {
   "cell_type": "code",
   "execution_count": 111,
   "metadata": {},
   "outputs": [
    {
     "name": "stdout",
     "output_type": "stream",
     "text": [
      "Encryption success!\n"
     ]
    }
   ],
   "source": [
    "file_path = 'test.mp4'\n",
    "password = '0000'\n",
    "\n",
    "encrypt_file(file_path, password)\n"
   ]
  },
  {
   "cell_type": "code",
   "execution_count": 112,
   "metadata": {},
   "outputs": [
    {
     "name": "stdout",
     "output_type": "stream",
     "text": [
      "Decryption success!\n"
     ]
    }
   ],
   "source": [
    "file_path = 'test.mp4.ylock'\n",
    "password = '0000'\n",
    "\n",
    "decrypt_file(file_path, password)\n"
   ]
  }
 ],
 "metadata": {
  "kernelspec": {
   "display_name": "gptac",
   "language": "python",
   "name": "python3"
  },
  "language_info": {
   "codemirror_mode": {
    "name": "ipython",
    "version": 3
   },
   "file_extension": ".py",
   "mimetype": "text/x-python",
   "name": "python",
   "nbconvert_exporter": "python",
   "pygments_lexer": "ipython3",
   "version": "3.11.2"
  }
 },
 "nbformat": 4,
 "nbformat_minor": 2
}
